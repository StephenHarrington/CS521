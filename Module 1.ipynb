{
 "cells": [
  {
   "cell_type": "markdown",
   "metadata": {},
   "source": [
    "## CS521 Addon to Module 1\n",
    "\n",
    "  \n",
    "\n",
    "1. Download this notebook to your computer\n",
    "2. Point your browser to [Jupyter](https://try.jupyter.org/)\n",
    "3. Click on the \"Upload\" button in the upper right \n",
    "4. Select this notebook (module 1.ipynb) to upload\n",
    "5. Click the blue \"Upload\" button\n",
    "6. Double click on the uploaded file \"module 1\" to open\n",
    "\n",
    "That's it!"
   ]
  },
  {
   "cell_type": "markdown",
   "metadata": {},
   "source": [
    "### Every Assignment should include a header "
   ]
  },
  {
   "cell_type": "code",
   "execution_count": null,
   "metadata": {
    "collapsed": false
   },
   "outputs": [],
   "source": [
    "'''\n",
    "This is a multi-line comment useful for module or overall program information.\n",
    "\n",
    "Every assignment submission should include at the very beginning a multi-line \n",
    "comment consisting of:\n",
    "\n",
    "Name:        Stephen Harrington\n",
    "Course:      CS521\n",
    "Date:        January 21, 2017\n",
    "Assignment:  Module #1 Extra Material - Simple Input/Output\n",
    "Description: This notebook contains a series of interactive python statements highlighting \n",
    "             python's input/output operations\n",
    "\n",
    "'''"
   ]
  },
  {
   "cell_type": "markdown",
   "metadata": {},
   "source": [
    "###  Simple Input/Output"
   ]
  },
  {
   "cell_type": "code",
   "execution_count": null,
   "metadata": {
    "collapsed": false
   },
   "outputs": [],
   "source": [
    "## Classic output example\n",
    "## Hello World!  \n",
    "\n",
    "## Note that Python 3.X requires parenthesises around the arguments passed to the print function.  \n",
    "## Parenthesises were not necessary in earlier versions of Python (e.g. 2.7).\n",
    "\n",
    "print(\"Hello World!\")\n",
    "\n",
    "## Input example\n",
    "\n",
    "variable = input('Prompt for input.  Type in anything and hit enter: ')\n",
    "print( 'Input variable is ' + variable)"
   ]
  },
  {
   "cell_type": "markdown",
   "metadata": {},
   "source": [
    "##### Sample code\n",
    "  \n",
    "write a code snippet that:\n",
    "\n",
    "1. prompts the user for their `firstname`\n",
    "2. prompts the user for their `lastname`\n",
    "3. prints out \"Hello, `firstname` `lastname`"
   ]
  },
  {
   "cell_type": "code",
   "execution_count": null,
   "metadata": {
    "collapsed": false
   },
   "outputs": [],
   "source": [
    "firstname  = input('Please type your first name: ')\n",
    "lastname   = input('Now type your last name: ')\n",
    "print( 'Hello, ' + firstname + ' ' + lastname )"
   ]
  },
  {
   "cell_type": "markdown",
   "metadata": {},
   "source": [
    "### Types and Variables"
   ]
  },
  {
   "cell_type": "code",
   "execution_count": null,
   "metadata": {
    "collapsed": false
   },
   "outputs": [],
   "source": [
    "##basic types are string, int, float and boolean\n",
    "aString   =  'abcD'\n",
    "anInt     =  4\n",
    "aFloat    =  3.1415926\n",
    "aBoolean  =  True  ## or False\n",
    "aNoneType =  None\n",
    "\n",
    "##Note that print statements require you to cast ints and other non strings using the str() function\n",
    "print('a string ' + aString    + ' has type: ' + str( type( aString ) ) )\n",
    "\n",
    "print('an int   ' + str(anInt) + ' has type: ' + str( type( anInt ) ) )\n",
    "##Note that print takes a single type and will cast it as a string to print, same for any non-string type\n",
    "print(anInt)\n",
    "\n",
    "print('a float   ' + str( aFloat )   + ' has type: ' + str( type( aFloat   ) ) )\n",
    "print('a boolean ' + str( aBoolean ) + ' has type: ' + str( type( aBoolean ) ) )\n",
    "\n"
   ]
  },
  {
   "cell_type": "code",
   "execution_count": null,
   "metadata": {
    "collapsed": false
   },
   "outputs": [],
   "source": [
    "##more advanced built-in type are tuple, list and dictionary\n",
    "\n",
    "aTuple      =  ( 1, 2, 3 )\n",
    "aMixedTuple =  ( 1, 'a' )\n",
    "\n",
    "aList       =  [ 'I', 'am', 'a', 'list', 'of', 'strings' ]\n",
    "aMixedList  =  [ 'Mixed Lists include', 'ints', 1, 2, 3, 'strings', 'ab', 'cd', \n",
    "                'and even other lists', [ 1, 2, 3 ], [ 'ab' , 'cd' ] ]\n",
    "\n",
    "aDictionary =  { \"key_1\" : 1, \"key_2\" : ( 'a', 'b', 'c'), \"bob\" : [ 1 , 2, 'a' ] }\n",
    "\n",
    "print('a tuple      '  + str(aTuple)       + ' has type: ' + str( type( aTuple ) ) ) \n",
    "print('a list       '  + str(aList)        + ' has type: ' + str( type( aList  ) ) )\n",
    "print('a dictionary '  + str(aDictionary)  + ' has type: ' + str( type( aDictionary ) ) )\n",
    "\n",
    "                                                                                                     "
   ]
  },
  {
   "cell_type": "markdown",
   "metadata": {},
   "source": [
    "### Variable Assignment\n",
    "\n",
    "1. Multiple assignments using basic types\n",
    "2. Various print options from `help(print)`\n",
    "3. Automatic type casting int/int = float\n",
    "4. Tuples are immutable\n",
    "5. List assignments by index\n",
    "6. Dictionary assignments\n",
    "7. List and dictionary methods"
   ]
  },
  {
   "cell_type": "code",
   "execution_count": null,
   "metadata": {
    "collapsed": false
   },
   "outputs": [],
   "source": [
    "## multiple assignments on basic type\n",
    "print( \"1. multiple assignment\", end = \" \" )  #multiple prints on one line by changing the default end from '\\n'\n",
    "m, n = 5, 12\n",
    "print( m + n )\n",
    "\n",
    "print( \"\\n2. mixed assignment\", end = \" \" )\n",
    "m, n = 'bob', 6\n",
    "print( m + str( n ), end = \"\\n\\n\" )   #note extra line feed \n",
    "\n",
    "## assignment with reuse\n",
    "print( \"3. assignment with reuse\", end=\" \" )  #no extra '\\n' at beginning like #2 above\n",
    "m, n = 5, 12\n",
    "m, n = n, m + n\n",
    "print( m , end = \" \")\n",
    "print( n )"
   ]
  },
  {
   "cell_type": "code",
   "execution_count": null,
   "metadata": {
    "collapsed": false
   },
   "outputs": [],
   "source": [
    "help(print)"
   ]
  },
  {
   "cell_type": "code",
   "execution_count": null,
   "metadata": {
    "collapsed": false
   },
   "outputs": [],
   "source": [
    "'''\n",
    "1. Tuples, lists and dictionaries are indexed from 0 thru N-1\n",
    "2. Tuples are immutable\n",
    "3. Intro try/except blocks\n",
    "'''\n",
    "\n",
    "aTuple = ( 1, 25, 87 )\n",
    "\n",
    "print( \"Value of index 0 of a tuple is \" + str( aTuple[ 0 ] ), end = \"\\n\\n\" )\n",
    "\n",
    "N = len( aTuple )\n",
    "\n",
    "##Note the use of the +\\ to extend the code to a newline for readability\n",
    "print( \"Value of index \" + str( N - 1 ) + \" of a tuple of length \" +\\\n",
    "      str( N ) + \" is \" + str( aTuple[ N-1 ] ), end = \"\\n\\n\" )\n",
    "\n",
    "'''\n",
    "Note. If there was no try: and except: block the python interpreter would print out an error message\n",
    "with a TypeError.  A try/except block allows us to \"catch\" the error and continue with the program\n",
    "'''\n",
    "\n",
    "try:\n",
    "    aTuple[ 0 ] = 45  #try to assign index 0 a new value\n",
    "except TypeError:\n",
    "    print( \"Oops! tuples are immutable and you can't assign an element by its index.\", end = \"\\n\\n\\n\" )\n",
    "    \n",
    "\n",
    "##Lists are not immutable and elements can be changed by index assignments\n",
    "aMixedList  =  [ 'Mixed Lists include', 'ints', 1, 2, 3, 'strings', 'ab', 'cd', \n",
    "                'and even other lists', [ 1, 2, 3 ], [ 'ab' , 'cd' ] ]\n",
    "\n",
    "\n",
    "'''\n",
    "Note how we include quotes \" in a string by escaping the character \\\", \n",
    "we could also enclose double quotes with single quotes; \n",
    "i.e. print(\"This is an apostrophe '\")\n",
    "'''\n",
    "print( \"Value of index 5 of a list is \\\"\" + str( aMixedList[ 5 ] ) + \"\\\"\", end = \"\\n\\n\" )\n",
    "\n",
    "try:\n",
    "    aMixedList[5] = \"even floats\"\n",
    "except:\n",
    "    print( \"We don't reach here!\" )\n",
    "    \n",
    "print( \"Value of index 5 of a list is now \\\"\" + str( aMixedList[ 5 ] ) + \"\\\"\", end = \"\\n\\n\\n\" )\n",
    "\n",
    "'''\n",
    "dictionaries are mutable like lists but are indexed \n",
    "by keys like an associative array\n",
    "each entry in the dictionary is referenced by a key\n",
    "'''\n",
    "\n",
    "aDictionary =  { \"key_1\" : 1, \"key_2\" : ( 'a', 'b', 'c'), \"bob\" : [ 1 , 2, 'a' ], 1 : \"this key is an int\" }\n",
    "\n",
    "print( str( aDictionary[ \"bob\" ] ), end = \"\\n\\n\" )\n",
    "\n",
    "print( str( aDictionary[ 1 ] ), end = '\\n\\n' )\n",
    "\n",
    "\n",
    "##List methods - append\n",
    "print( \"\\n\\nList methods - append and find \", end = '\\n\\n')\n",
    "aList = [ 'This is a list','of strings and ints', 1, 2 ]\n",
    "print( aList)\n",
    "\n",
    "aList.append( 'String added on at end' )\n",
    "print( aList )\n"
   ]
  },
  {
   "cell_type": "markdown",
   "metadata": {},
   "source": [
    "### Sequences and Strings"
   ]
  },
  {
   "cell_type": "code",
   "execution_count": null,
   "metadata": {
    "collapsed": false
   },
   "outputs": [],
   "source": [
    "string = 'abcdefghijk'\n",
    "\n",
    "print(\"\\n\\nIndexes and slices\\n\")\n",
    "\n",
    "print( \"index    2  of a string \\\"\" + string + \"\\\" equals \\\"\" + str( string[ 2 ] ) + \"\\\"\" )\n",
    "\n",
    "##slices\n",
    "print( \"indexes 3-7 of a string \\\"\" + string + \"\\\" equals \\\"\" + str( string[ 3:7 ] ) + \"\\\"\" )\n",
    "\n",
    "##not the use of -1\n",
    "print( \"last index  of a string \\\"\" + string + \"\\\" equals \\\"\" + str( string[ -1 ] ) + \"\\\"\" )\n",
    "print( \"last three indexes of a string \\\"\" + string + \"\\\" equals \\\"\" + str( string[ -3: ] ) + \"\\\"\" )\n",
    "\n",
    "print(\"The length of the string \\\"\" + string + \"\\\" is \" + str( len( string ) ) )\n",
    "\n",
    "##reverse a string\n",
    "print(\"To reverse a string \\\"\" + string + \"\\\" use [::-1] \" + string[ : : -1 ] )\n",
    "\n",
    "\n",
    "print(\"\\n\\nSplitting a string\\n\")\n",
    "##split a string into a list, useful for parsing files\n",
    "string = \"Column1,Column2,Column3,Column4\"\n",
    "print( string.split( \",\" ) )\n",
    "\n",
    "##remove extra white space, split on \"|\"\n",
    "string = \"Column1| Column2| Column3| Column4\"\n",
    "print( string.replace(\" \",\"\").split( \"|\" ) )\n",
    "\n",
    "\n",
    "print(\"\\n\\nFormatted prints\\n\")\n",
    "\n",
    "print( '{0},{1},{2}'.format( 'a', 'b', 'c' ) )\n",
    "print( '{1},{1},{1}'.format( 'a', 'b', 'c' ) )\n",
    "print( 'Your name {Firstname} {Lastname}'.format( Firstname = \"Stephen\", Lastname = \"Harrington\" ) )\n"
   ]
  },
  {
   "cell_type": "markdown",
   "metadata": {},
   "source": [
    "### Booleans Comparisons"
   ]
  },
  {
   "cell_type": "code",
   "execution_count": null,
   "metadata": {
    "collapsed": false
   },
   "outputs": [],
   "source": [
    "aTuple = ( 1, 25, 87 )\n",
    "\n",
    "aMixedList  =  [ 'Mixed Lists include', 'ints', 1, 2, 3, 'strings', 'ab', 'cd', \n",
    "                'and even other lists', [ 1, 2, 3 ], [ 'ab' , 'cd' ] ]\n",
    "\n",
    "print( '\\n\\nObject contains element\\n' )\n",
    "print( 25 in aTuple )\n",
    "print( \"Bruce Springsteen\" in aMixedList )\n",
    "print( [ 1, 2, 3 ] in aMixedList )\n",
    "\n",
    "print( '\\n\\nSimple Predicates\\n' )\n",
    "print( 3 < 5 )\n",
    "print( True == True )\n",
    "print( 'b' < 'a' )\n",
    "print( (True or False) == True )\n",
    "print( (False and True) != False ) ## False and True is equal to True!!!\n"
   ]
  },
  {
   "cell_type": "markdown",
   "metadata": {},
   "source": [
    "### Control and Program Flow\n",
    "\n",
    "1. if/else if/else\n",
    "2. case and switch\n",
    "3. while\n",
    "4. for with \"in\" and \"range\""
   ]
  },
  {
   "cell_type": "code",
   "execution_count": null,
   "metadata": {
    "collapsed": false
   },
   "outputs": [],
   "source": [
    "##change a, b and c to see all possible answers\n",
    "\n",
    "a = 2\n",
    "b = 7\n",
    "c = 12\n",
    "\n",
    "print(\"\\n\\nif/elif/else\")\n",
    "if a > b:\n",
    "    print ( \"{a} > {b}\".format( a = a, b = b ) )\n",
    "elif b > c:\n",
    "    print ( \"{first} > {second}\".format( first = b, second = c ) )\n",
    "else:\n",
    "    print( \" No criteria met\" )\n",
    "\n",
    "##while loop\n",
    "print(\"\\n\\nWhile Loops\")\n",
    "d = 0\n",
    "while d < a:\n",
    "    print ( \"{d} is less than {a}\".format( d = d, a = a))\n",
    "    d+=1\n",
    "\n",
    "print ( \"Loop ends with d = {d}\".format( d = d))\n",
    "\n",
    "\n",
    "##for loops\n",
    "print(\"\\n\\nFor Loops: in\")\n",
    "for letter in 'Python':     # First Example\n",
    "   print( 'Current Letter :' + letter )\n",
    "\n",
    "fruits = ['banana', 'apple',  'mango']\n",
    "for fruit in fruits:        # Second Example\n",
    "   print( 'Current fruit :' + fruit )\n",
    "\n",
    "print(\"\\n\\nFor Loops: range\")\n",
    "for i in range(5):\n",
    "    print( \"i=\" + str( i ) )\n"
   ]
  },
  {
   "cell_type": "code",
   "execution_count": null,
   "metadata": {
    "collapsed": true
   },
   "outputs": [],
   "source": []
  }
 ],
 "metadata": {
  "anaconda-cloud": {},
  "kernelspec": {
   "display_name": "Python [conda env:neighbor]",
   "language": "python",
   "name": "conda-env-neighbor-py"
  },
  "language_info": {
   "codemirror_mode": {
    "name": "ipython",
    "version": 3
   },
   "file_extension": ".py",
   "mimetype": "text/x-python",
   "name": "python",
   "nbconvert_exporter": "python",
   "pygments_lexer": "ipython3",
   "version": "3.5.2"
  }
 },
 "nbformat": 4,
 "nbformat_minor": 1
}
