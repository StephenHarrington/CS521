{
 "cells": [
  {
   "cell_type": "markdown",
   "metadata": {},
   "source": [
    "### Python Resources\n",
    "  \n",
    "#### Tutorials and Introductions\n",
    "  \n",
    "1. [Dive Into Python](http://www.diveintopython3.net/) - another survey of Python syntax, datatypes, etc.  \n",
    "2. [Think Python](http://greenteapress.com/wp/think-python-2e/) by Allen Downey - a good general overview of the Python language. Includes exercises.  \n",
    "3. [The Official Python Tutorial](https://docs.python.org/3/tutorial/) - self-explanatory  \n",
    "4. [Learn Python the Hard Way](http://learnpythonthehardway.org/book/) - (note: for Python 2) another free online text  \n",
    "5. [Reserved Keywords in Python](https://docs.python.org/3.0/reference/lexical_analysis.html#id8) - don't use these as variable names   \n",
    "6. [PEP 8 - Style Guide for Python Code](https://www.python.org/dev/peps/pep-0008/) - learn what is good and bad style in Python  \n",
    "7. [CheckIO](https://checkio.org/) - learn Python by exploring a game world  \n",
    "8. [Invent with Python](https://inventwithpython.com/) - develop your Python skills by making games or hacking ciphers  \n",
    "9. [Codecademy](https://www.codecademy.com/learn/python) - (note: for Python 2) learn Python by building web apps and manipulating data; interactive tutorial sequence  \n",
    "10. [Python Tutor](http://www.pythontutor.com/) - interactive tutorial sequence of exercises\n",
    "\n",
    "\n",
    "#### Development Environments (IDEs)\n",
    "  \n",
    "1. [Anaconda](https://www.continuum.io/downloads) - includes many packages (pandas, numpy, scipy) for scientific programming\n",
    "2. [PyCharm](https://www.jetbrains.com/pycharm-edu/download)  - education oriented, good free IDE\n",
    "3. [Jupyter](http://jupyter.org/)  - browser based interactive debugger and markdown notebook tool\n",
    "4. [Wingware](https://wingware.com/) - professional level python IDE, not free :(\n",
    "5. [Pydev](http://www.pydev.org/)    - with eclipse, great free IDE\n",
    "6. [IDLE](https://www.python.org/downloads/)      - barebones IDE\n",
    "\n"
   ]
  },
  {
   "cell_type": "code",
   "execution_count": null,
   "metadata": {
    "collapsed": true
   },
   "outputs": [],
   "source": []
  }
 ],
 "metadata": {
  "anaconda-cloud": {},
  "kernelspec": {
   "display_name": "Python [conda env:neighbor]",
   "language": "python",
   "name": "conda-env-neighbor-py"
  },
  "language_info": {
   "codemirror_mode": {
    "name": "ipython",
    "version": 3
   },
   "file_extension": ".py",
   "mimetype": "text/x-python",
   "name": "python",
   "nbconvert_exporter": "python",
   "pygments_lexer": "ipython3",
   "version": "3.5.2"
  }
 },
 "nbformat": 4,
 "nbformat_minor": 1
}
